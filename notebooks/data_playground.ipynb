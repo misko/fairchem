{
 "cells": [
  {
   "cell_type": "code",
   "execution_count": null,
   "metadata": {},
   "outputs": [],
   "source": [
    "import matplotlib\n",
    "matplotlib.use('Agg')\n",
    "\n",
    "import os\n",
    "import numpy as np\n",
    "\n",
    "import matplotlib.pyplot as plt\n",
    "%matplotlib inline\n",
    "\n",
    "params = {\n",
    "   'axes.labelsize': 14,\n",
    "   'font.size': 14,\n",
    "   'font.family': 'Roboto',\n",
    "   'legend.fontsize': 20,\n",
    "   'xtick.labelsize': 20,\n",
    "   'ytick.labelsize': 20,\n",
    "   'axes.labelsize': 25,\n",
    "   'axes.titlesize': 25,\n",
    "   'text.usetex': False,\n",
    "   'figure.figsize': [12, 12]\n",
    "}\n",
    "matplotlib.rcParams.update(params)\n",
    "\n",
    "\n",
    "import ase.io\n",
    "from ase.io.trajectory import Trajectory\n",
    "from ase.io import extxyz\n",
    "from ase.calculators.emt import EMT\n",
    "from ase.build import fcc100, add_adsorbate, molecule\n",
    "from ase.constraints import FixAtoms\n",
    "from ase.optimize import LBFGS\n",
    "from ase.visualize.plot import plot_atoms\n",
    "from ase import Atoms\n",
    "from IPython.display import Image"
   ]
  },
  {
   "cell_type": "code",
   "execution_count": null,
   "metadata": {},
   "outputs": [],
   "source": [
    "videos_dir = \"videos/\"\n",
    "os.makedirs(videos_dir, exist_ok=True)\n",
    "\n",
    "config = {\n",
    "    \"num_procs\": 1,\n",
    "    \"fps\": 30,\n",
    "}"
   ]
  },
  {
   "cell_type": "markdown",
   "metadata": {},
   "source": [
    "## Understanding the data\n",
    "\n",
    "We use the Atomic Simulation Environment (ASE) to interact with our data. This notebook will provide you with some intuition on what the data looks like, how to visualize it, and the specific properties that are passed on to our models."
   ]
  },
  {
   "cell_type": "markdown",
   "metadata": {},
   "source": [
    "### Generating sample data\n",
    "For simplicity, we generate sample data in the same format as the OC20 dataset. A toy relaxation (or trajectory) of propane (C3H8) on a copper (Cu) surface is used with a classical-like potential (EMT). Unlike DFT, EMT is extremely fast but limited in accuracy and applicability to certain elements, making it great for demos and tests. You are free to explore alternative systems below, however, you may skip the data construction and move on to \"Reading a trajectory\"."
   ]
  },
  {
   "cell_type": "code",
   "execution_count": null,
   "metadata": {},
   "outputs": [],
   "source": [
    "adslab = fcc100(\"Cu\", size=(3, 3, 3))\n",
    "adsorbate = molecule(\"C3H8\")\n",
    "add_adsorbate(adslab, adsorbate, 3, offset=(1, 1)) # adslab = adsorbate + slab\n",
    "\n",
    "# tag all slab atoms below surface as 0, surface as 1, adsorbate as 2\n",
    "tags = np.zeros(len(adslab))\n",
    "tags[18:27] = 1\n",
    "tags[27:] = 2\n",
    "\n",
    "adslab.set_tags(tags)\n",
    "\n",
    "# Fixed atoms are prevented from moving during a structure relaxation. We fix all slab atoms beneath the surface \n",
    "cons= FixAtoms(indices=[atom.index for atom in adslab if (atom.tag == 0)])\n",
    "adslab.set_constraint(cons)\n",
    "adslab.center(vacuum=13.0, axis=2)\n",
    "adslab.set_pbc(True)\n",
    "adslab.set_calculator(EMT())\n",
    "\n",
    "os.makedirs('data', exist_ok=True)\n",
    "\n",
    "# Define structure optimizer - LBFGS. Run for 100 steps, or if the max force on all atoms (fmax) is below 0 ev/A.\n",
    "# fmax is typically set to 0.01-0.05 eV/A, for this demo however we run for the full 100 steps.\n",
    "\n",
    "dyn = LBFGS(adslab, trajectory=\"data/toy_c3h8_relax.traj\")\n",
    "dyn.run(fmax=0, steps=100)\n",
    "\n",
    "traj = ase.io.read(\"data/toy_c3h8_relax.traj\", \":\")\n",
    "\n",
    "# convert traj format to extxyz format (used by OC20 dataset)\n",
    "columns = (['symbols','positions', 'move_mask', 'tags'])\n",
    "with open('data/toy_c3h8_relax.extxyz','w') as f:\n",
    "    extxyz.write_xyz(f, traj, columns=columns)\n",
    "    \n",
    "os.system(\"rm data/toy_c3h8_relax.traj\")"
   ]
  },
  {
   "cell_type": "markdown",
   "metadata": {},
   "source": [
    "### Reading a trajectory"
   ]
  },
  {
   "cell_type": "code",
   "execution_count": null,
   "metadata": {},
   "outputs": [],
   "source": [
    "identifier = \"toy_c3h8_relax.extxyz\"\n",
    "traj = ase.io.read(\"data/%s\" % identifier, index=\":\")"
   ]
  },
  {
   "cell_type": "markdown",
   "metadata": {},
   "source": [
    "### Viewing a trajectory"
   ]
  },
  {
   "cell_type": "code",
   "execution_count": null,
   "metadata": {},
   "outputs": [],
   "source": [
    "fig, ax = plt.subplots(1, 3)\n",
    "labels = ['initial', 'middle', 'final']\n",
    "for i in range(3):\n",
    "    ax[i].axis('off')\n",
    "    ax[i].set_title(labels[i])\n",
    "ase.visualize.plot.plot_atoms(traj[0], ax[0], radii=0.8, rotation=(\"-75x, 45y, 10z\"))\n",
    "ase.visualize.plot.plot_atoms(traj[50], ax[1], radii=0.8, rotation=(\"-75x, 45y, 10z\"))\n",
    "ase.visualize.plot.plot_atoms(traj[-1], ax[2], radii=0.8, rotation=(\"-75x, 45y, 10z\"))"
   ]
  },
  {
   "cell_type": "markdown",
   "metadata": {},
   "source": [
    "### Saving a trajectory video\n",
    "\n",
    "More visualization resources can be found here: https://wiki.fysik.dtu.dk/ase/ase/visualize/visualize.html."
   ]
  },
  {
   "cell_type": "code",
   "execution_count": null,
   "metadata": {},
   "outputs": [],
   "source": [
    "identifier = \"toy_c3h8_relax.extxyz\"\n",
    "traj = ase.io.read(\"data/%s\" % identifier, index=\":\")\n",
    "\n",
    "ase.io.write(os.path.join(videos_dir, identifier + \".gif\"),\n",
    "             traj,\n",
    "             interval=1,\n",
    "             rotation=(\"-75x, 45y, 10z\"))\n",
    "plt.close()\n",
    "Image(open(os.path.join(videos_dir, identifier + \".gif\"),'rb').read())"
   ]
  },
  {
   "cell_type": "markdown",
   "metadata": {},
   "source": [
    "### Data contents\n",
    "Here we take a closer look at what information is contained within these trajectories."
   ]
  },
  {
   "cell_type": "code",
   "execution_count": null,
   "metadata": {},
   "outputs": [],
   "source": [
    "i_structure = traj[0]\n",
    "i_structure"
   ]
  },
  {
   "cell_type": "markdown",
   "metadata": {},
   "source": [
    "#### Atomic numbers"
   ]
  },
  {
   "cell_type": "code",
   "execution_count": null,
   "metadata": {},
   "outputs": [],
   "source": [
    "numbers = i_structure.get_atomic_numbers()\n",
    "print(numbers)"
   ]
  },
  {
   "cell_type": "markdown",
   "metadata": {},
   "source": [
    "#### Atomic symbols"
   ]
  },
  {
   "cell_type": "code",
   "execution_count": null,
   "metadata": {},
   "outputs": [],
   "source": [
    "symbols = np.array(i_structure.get_chemical_symbols())\n",
    "print(symbols)"
   ]
  },
  {
   "cell_type": "markdown",
   "metadata": {},
   "source": [
    "#### Unit cell\n",
    "\n",
    "The unit cell is the volume containing our system of interest. Express as a 3x3 array representing the directional vectors that make up the volume. Illustrated as the dashed box in the above visuals."
   ]
  },
  {
   "cell_type": "code",
   "execution_count": null,
   "metadata": {},
   "outputs": [],
   "source": [
    "cell = np.array(i_structure.cell)\n",
    "print(cell)"
   ]
  },
  {
   "cell_type": "markdown",
   "metadata": {},
   "source": [
    "#### Periodic boundary conditions (PBC)\n",
    "\n",
    "x,y,z boolean representing whether a unit cell repeats in the corresponding directions. The OC20 dataset sets this to [True, True, True], with a large enough vacuum layer above the surface such that a unit cell does not see itself in the z direction."
   ]
  },
  {
   "cell_type": "code",
   "execution_count": null,
   "metadata": {},
   "outputs": [],
   "source": [
    "pbc = i_structure.pbc\n",
    "print(pbc)"
   ]
  },
  {
   "cell_type": "markdown",
   "metadata": {},
   "source": [
    "#### Tags\n",
    "\n",
    "The OC20 dataset consists of systems with several different types of atoms. To help with identifying the index of certain atoms, we tag each atom according to where it is found in the system - sub-surface slab atoms, surface slab atoms, and adsorbate atoms.\n",
    "\n",
    "Tag:\n",
    "\n",
    "0 - Sub-surface slab atoms <br>\n",
    "1 - Surface slab atoms<br>\n",
    "2 - Adsorbate atoms"
   ]
  },
  {
   "cell_type": "code",
   "execution_count": null,
   "metadata": {},
   "outputs": [],
   "source": [
    "tags = i_structure.get_tags()\n",
    "print(tags)"
   ]
  },
  {
   "cell_type": "markdown",
   "metadata": {},
   "source": [
    "#### Fixed atoms constraint\n",
    "\n",
    "In reality, surfaces contain many, many more atoms beneath what we've illustrated as the surface. At an infinite depth, these subsurface atoms would look just like the bulk structure. We approximate a true surface by fixing the subsurface atoms into their “bulk” locations. This ensures that they cannot move at the “bottom” of the surface. If they could, this would throw off our calculations. Consistent with the above, we fix all atoms with tags=0, and denote them as \"fixed\". All other atoms are considered \"free\". "
   ]
  },
  {
   "cell_type": "code",
   "execution_count": null,
   "metadata": {},
   "outputs": [],
   "source": [
    "cons = i_structure.constraints[0]\n",
    "print(cons, '\\n')\n",
    "\n",
    "# indices of fixed atoms\n",
    "indices = cons.index\n",
    "print(indices, '\\n')\n",
    "\n",
    "# fixed atoms correspond to tags = 0\n",
    "print(tags[indices])"
   ]
  },
  {
   "cell_type": "markdown",
   "metadata": {},
   "source": [
    "#### Energy\n",
    "\n",
    "The energy of the system is one of the properties of interest in the OC20 dataset. It's important to note that absolute energies provide little value to researchers and must be referenced properly to be useful. The OC20 dataset references all it's energies to the bare slab + gas references to arrive at adsorption energies. Adsorption energies are important in studying catalysts and their corresponding reaction rates. In addition to the structure realxations of the OC20 dataset, bare slab and gas (N2, H2, H2O, CO) relaxations were carried out with DFT in order to calculate adsorption energies."
   ]
  },
  {
   "cell_type": "code",
   "execution_count": null,
   "metadata": {},
   "outputs": [],
   "source": [
    "final_structure = traj[-1]\n",
    "relaxed_energy = final_structure.get_potential_energy()\n",
    "print(f'Relaxed absolute energy = {relaxed_energy} eV')\n",
    "\n",
    "# Corresponding raw slab used in original adslab (adsorbate+slab) system. \n",
    "raw_slab = fcc100(\"Cu\", size=(3, 3, 3))\n",
    "raw_slab.set_calculator(EMT())\n",
    "raw_slab_energy = raw_slab.get_potential_energy()\n",
    "print(f'Raw slab energy = {raw_slab_energy} eV')\n",
    "\n",
    "\n",
    "adsorbate = Atoms(\"C3H8\").get_chemical_symbols()\n",
    "# For clarity, we define arbitrary gas reference energies here.\n",
    "# A more detailed discussion of these calculations can be found in the corresponding paper's SI. \n",
    "gas_reference_energies = {'H': .3, 'O': .45, 'C': .35, 'N': .50}\n",
    "\n",
    "adsorbate_reference_energy = 0\n",
    "for ads in adsorbate:\n",
    "    adsorbate_reference_energy += gas_reference_energies[ads]\n",
    "\n",
    "print(f'Adsorbte reference energy = {adsorbate_reference_energy} eV\\n')\n",
    "\n",
    "adsorption_energy = relaxed_energy - raw_slab_energy - adsorbate_reference_energy\n",
    "print(f'Adsorption energy: {adsorption_energy} eV')"
   ]
  },
  {
   "cell_type": "markdown",
   "metadata": {},
   "source": [
    "#### Forces\n",
    "\n",
    "Forces are another important property of the OC20 dataset. Unlike datasets like QM9 which contain only ground truth properties, the OC20 dataset contains per-atom forces necessary to carry out atomistic simulations. Physically, forces are the negative gradient of energy w.r.t atomic positions: $F = -\\frac{dE}{dx}$. Maintaining this energy-force consistency is important for models that seek to make predictions on both.\n",
    "\n",
    "The \"apply_constraint\" argument controls whether to apply system constraints to the forces. In the OC20 dataset, this controls whether to return forces for fixed atoms (apply_constraint=False) or return 0s (apply_constraint=True)."
   ]
  },
  {
   "cell_type": "code",
   "execution_count": null,
   "metadata": {},
   "outputs": [],
   "source": [
    "# Returning forces for all atoms - regardless of whether \"fixed\" or \"free\"\n",
    "i_structure.get_forces(apply_constraint=False)"
   ]
  },
  {
   "cell_type": "code",
   "execution_count": null,
   "metadata": {},
   "outputs": [],
   "source": [
    "# Applying the fixed atoms constraint to the forces\n",
    "i_structure.get_forces(apply_constraint=True)"
   ]
  },
  {
   "cell_type": "markdown",
   "metadata": {},
   "source": [
    "### Resources\n",
    "\n",
    "More helpful resources, tutorials, and documentation can be found at ASE's webpage: https://wiki.fysik.dtu.dk/ase/index.html. We point to specific pages that may be of interest:\n",
    "\n",
    "- Interacting with Atoms Object: https://wiki.fysik.dtu.dk/ase/ase/atoms.html <br>\n",
    "- Visualization: https://wiki.fysik.dtu.dk/ase/ase/visualize/visualize.html <br>\n",
    "- Structure optimization: https://wiki.fysik.dtu.dk/ase/ase/optimize.html <br>\n",
    "- Tutorials: https://wiki.fysik.dtu.dk/ase/tutorials/tutorials.html <br>\n",
    "\n"
   ]
  }
 ],
 "metadata": {
  "kernelspec": {
   "display_name": "Python 3",
   "language": "python",
   "name": "python3"
  },
  "language_info": {
   "codemirror_mode": {
    "name": "ipython",
    "version": 3
   },
   "file_extension": ".py",
   "mimetype": "text/x-python",
   "name": "python",
   "nbconvert_exporter": "python",
   "pygments_lexer": "ipython3",
   "version": "3.6.11"
  }
 },
 "nbformat": 4,
 "nbformat_minor": 4
}
