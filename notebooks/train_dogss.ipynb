{
 "cells": [
  {
   "cell_type": "code",
   "execution_count": 1,
   "metadata": {},
   "outputs": [
    {
     "name": "stdout",
     "output_type": "stream",
     "text": [
      "env: CUDA_VISIBLE_DEVICES=0\n"
     ]
    }
   ],
   "source": [
    "%env CUDA_VISIBLE_DEVICES=0\n",
    "\n",
    "import os.path\n",
    "import sys\n",
    "import torch\n",
    "# sys.path.insert(0, os.path.join(os.path.dirname(__file__), \"..\"))\n",
    "sys.path.insert(0, os.path.join(\"/home/junwoony/Desktop/baselines\"))\n",
    "from ocpmodels.trainers import DOGSSTrainer\n"
   ]
  },
  {
   "cell_type": "code",
   "execution_count": 2,
   "metadata": {},
   "outputs": [
    {
     "data": {
      "text/html": [
       "\n",
       "                Logging results to <a href=\"https://wandb.com\" target=\"_blank\">Weights & Biases</a> <a href=\"https://docs.wandb.com/integrations/jupyter.html\" target=\"_blank\">(Documentation)</a>.<br/>\n",
       "                Project page: <a href=\"https://app.wandb.ai/junwoony/baselines-notebooks\" target=\"_blank\">https://app.wandb.ai/junwoony/baselines-notebooks</a><br/>\n",
       "                Run page: <a href=\"https://app.wandb.ai/junwoony/baselines-notebooks/runs/2020-04-30-12-41-04-my-first-experiment\" target=\"_blank\">https://app.wandb.ai/junwoony/baselines-notebooks/runs/2020-04-30-12-41-04-my-first-experiment</a><br/>\n",
       "            "
      ],
      "text/plain": [
       "<IPython.core.display.HTML object>"
      ]
     },
     "metadata": {},
     "output_type": "display_data"
    },
    {
     "name": "stderr",
     "output_type": "stream",
     "text": [
      "wandb: Wandb version 0.8.34 is available!  To upgrade, please run:\n",
      "wandb:  $ pip install wandb --upgrade\n"
     ]
    },
    {
     "name": "stdout",
     "output_type": "stream",
     "text": [
      "### Loading dataset: dogss\n",
      "### Loading model: dogss\n",
      "### Loaded DOGSS with 3212700 parameters.\n",
      "cmd:\n",
      "  checkpoint_dir: /home/junwoony/Desktop/baselines/notebooks/checkpoints/2020-04-30-12-41-04-my-first-experiment\n",
      "  identifier: my-first-experiment\n",
      "  logs_dir: /home/junwoony/Desktop/baselines/notebooks/logs/2020-04-30-12-41-04-my-first-experiment\n",
      "  print_every: 100\n",
      "  results_dir: /home/junwoony/Desktop/baselines/notebooks/results/2020-04-30-12-41-04-my-first-experiment\n",
      "  seed: null\n",
      "  timestamp: 2020-04-30-12-41-04-my-first-experiment\n",
      "dataset:\n",
      "  normalize_labels: false\n",
      "  src: ../data/data/dogss_surface/\n",
      "  test_size: 659\n",
      "  train_size: 5331\n",
      "  val_size: 592\n",
      "logger: wandb\n",
      "model: dogss\n",
      "model_attributes:\n",
      "  D_feat_dim: 4\n",
      "  atom_embedding_size: 236\n",
      "  const_feat_dim: 4\n",
      "  dist_feat_dim: 4\n",
      "  energy_mode: Harmonic\n",
      "  fc_feat_size: 6\n",
      "  max_opt_steps: 150\n",
      "  min_opt_steps: 30\n",
      "  momentum: 0.8\n",
      "  num_const_layers: 0\n",
      "  num_dist_layers: 0\n",
      "  num_graph_conv_layers: 12\n",
      "  opt_step_size: 0.3\n",
      "optim:\n",
      "  batch_size: 17\n",
      "  lr_gamma: 0.1\n",
      "  lr_initial: 0.0393415\n",
      "  lr_milestones:\n",
      "  - 100\n",
      "  max_epochs: 20\n",
      "  weight_decay: 4.54e-05\n",
      "task:\n",
      "  dataset: dogss\n",
      "  description: Predicting ground state structures\n",
      "  labels:\n",
      "  - positions\n",
      "  metric: mean_l2_distance\n",
      "  type: regression\n",
      "\n",
      " initial train loss: 0.132104\n",
      " initial val loss: 0.132842\n",
      " initial test loss: 0.143341\n",
      "\n"
     ]
    }
   ],
   "source": [
    "task = {\n",
    "    \"dataset\": \"dogss\",\n",
    "    \"description\": \"Predicting ground state structures\",\n",
    "    \"labels\": [\"binding energy\"],\n",
    "    \"metric\": \"mean_l2_distance\",\n",
    "    \"type\": \"regression\",\n",
    "    \"labels\": [\"positions\"]\n",
    "}\n",
    "\n",
    "model = {\n",
    "    \"name\": \"dogss\",\n",
    "    \"atom_embedding_size\": 236,\n",
    "    \"fc_feat_size\": 6,\n",
    "    \"num_graph_conv_layers\": 12,\n",
    "    \"num_dist_layers\": 0,\n",
    "    \"num_const_layers\": 0,\n",
    "    \"dist_feat_dim\": 4,\n",
    "    \"const_feat_dim\": 4,\n",
    "    \"D_feat_dim\": 4,\n",
    "    \"energy_mode\": \"Harmonic\",\n",
    "    \"max_opt_steps\": 150,\n",
    "    \"min_opt_steps\": 30,\n",
    "    \"opt_step_size\": 0.3,\n",
    "    \"momentum\": 0.8,\n",
    "}\n",
    "\n",
    "dataset = {\n",
    "    # place data.pt in `data/data/<your_folder_name>/processed/data.pt\n",
    "    \"src\": \"../data/data/dogss_surface/\",\n",
    "    \"train_size\": 5331,\n",
    "    \"val_size\": 592,\n",
    "    \"test_size\": 659,\n",
    "    # this disables the normalizer.\n",
    "    \"normalize_labels\": False,\n",
    "}\n",
    "\n",
    "optimizer = {\n",
    "    \"batch_size\": 17,\n",
    "    \"max_epochs\": 20,\n",
    "    \"lr_initial\": 0.0393415,\n",
    "    \"weight_decay\": 0.0000454,\n",
    "    \"lr_gamma\": 0.1,\n",
    "    \"lr_milestones\": [100],\n",
    "}\n",
    "\n",
    "trainer = DOGSSTrainer(\n",
    "    task=task,\n",
    "    model=model,\n",
    "    dataset=dataset,\n",
    "    optimizer=optimizer,\n",
    "    identifier=\"my-first-experiment\",\n",
    "    print_every = 100,\n",
    ")\n"
   ]
  },
  {
   "cell_type": "code",
   "execution_count": null,
   "metadata": {
    "scrolled": false
   },
   "outputs": [
    {
     "name": "stderr",
     "output_type": "stream",
     "text": [
      "wandb: Wandb version 0.8.34 is available!  To upgrade, please run:\n",
      "wandb:  $ pip install wandb --upgrade\n"
     ]
    },
    {
     "name": "stdout",
     "output_type": "stream",
     "text": [
      "epoch: 0.0032, loss: 0.1291, positions/mean_l2_distance: 0.1291\n",
      "epoch: 0.3217, loss: 0.1216, positions/mean_l2_distance: 0.1216\n",
      "epoch: 0.6401, loss: 0.1209, positions/mean_l2_distance: 0.1209\n"
     ]
    }
   ],
   "source": [
    "trainer.train()\n"
   ]
  },
  {
   "cell_type": "code",
   "execution_count": null,
   "metadata": {},
   "outputs": [],
   "source": [
    "torch.cuda.empty_cache()"
   ]
  },
  {
   "cell_type": "code",
   "execution_count": null,
   "metadata": {},
   "outputs": [],
   "source": []
  }
 ],
 "metadata": {
  "kernelspec": {
   "display_name": "Python 3",
   "language": "python",
   "name": "python3"
  },
  "language_info": {
   "codemirror_mode": {
    "name": "ipython",
    "version": 3
   },
   "file_extension": ".py",
   "mimetype": "text/x-python",
   "name": "python",
   "nbconvert_exporter": "python",
   "pygments_lexer": "ipython3",
   "version": "3.7.3"
  }
 },
 "nbformat": 4,
 "nbformat_minor": 2
}
